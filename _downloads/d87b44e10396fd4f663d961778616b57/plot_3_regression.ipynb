{
  "cells": [
    {
      "cell_type": "code",
      "execution_count": null,
      "metadata": {
        "collapsed": false
      },
      "outputs": [],
      "source": [
        "%matplotlib inline"
      ]
    },
    {
      "cell_type": "markdown",
      "metadata": {},
      "source": [
        "\n# Age estimation (regression) example\n\nThis tutorial aims to demonstrate the comparable accuracy of the Akida-compatible\nmodel to the traditional Keras model in performing an age estimation task.\n\nIt uses the [UTKFace dataset](https://susanqq.github.io/UTKFace/)_, which\nincludes images of faces and age labels, to showcase how well akida compatible\nmodel can predict the ages of individuals based on their facial features.\n"
      ]
    },
    {
      "cell_type": "markdown",
      "metadata": {},
      "source": [
        "## 1. Load the UTKFace Dataset\n\nThe UTKFace dataset has 20,000+ diverse face images spanning 0 to 116 years.\nIt includes age, gender, ethnicity annotations. This dataset is useful for\nvarious tasks like age estimation, face detection, and more.\n\nLoad the dataset from Brainchip data server using the [load_data](../../api_reference/akida_models_apis.html#akida_models.utk_face.preprocessing.load_data)_\nhelper (decode JPEG images and load the associated labels).\n\n"
      ]
    },
    {
      "cell_type": "code",
      "execution_count": null,
      "metadata": {
        "collapsed": false
      },
      "outputs": [],
      "source": [
        "from akida_models.utk_face.preprocessing import load_data\n\n# Load the dataset\nx_train, y_train, x_test, y_test = load_data()"
      ]
    },
    {
      "cell_type": "markdown",
      "metadata": {},
      "source": [
        "Akida models accept only [uint8 tensors](../../api_reference/akida_apis.html?highlight=uint8#akida.Model)\nas inputs. Use uint8 raw data for Akida performance evaluation.\n\n"
      ]
    },
    {
      "cell_type": "code",
      "execution_count": null,
      "metadata": {
        "collapsed": false
      },
      "outputs": [],
      "source": [
        "# For Akida inference, use uint8 raw data\nx_test_akida = x_test.astype('uint8')"
      ]
    },
    {
      "cell_type": "markdown",
      "metadata": {},
      "source": [
        "## 2. Load a pre-trained native Keras model\n\nThe model is a simplified version inspired from [VGG](https://arxiv.org/abs/1409.1556)_\narchitecture. It consists of a succession of convolutional and pooling layers\nand ends with two dense layers that outputs a single value\ncorresponding to the estimated age.\n\nThe performance of the model is evaluated using the \"Mean Absolute Error\"\n(MAE). The MAE, used as a metric in regression problem, is calculated as an\naverage of absolute differences between the target values and the predictions.\nThe MAE is a linear score, i.e. all the individual differences are equally\nweighted in the average.\n\n"
      ]
    },
    {
      "cell_type": "code",
      "execution_count": null,
      "metadata": {
        "collapsed": false
      },
      "outputs": [],
      "source": [
        "from akida_models import fetch_file\nfrom tensorflow.keras.models import load_model\n\n# Retrieve the model file from the BrainChip data server\nmodel_file = fetch_file(fname=\"vgg_utk_face.h5\",\n                        origin=\"https://data.brainchip.com/models/AkidaV2/vgg/vgg_utk_face.h5\",\n                        cache_subdir='models')\n\n# Load the native Keras pre-trained model\nmodel_keras = load_model(model_file)\nmodel_keras.summary()"
      ]
    },
    {
      "cell_type": "code",
      "execution_count": null,
      "metadata": {
        "collapsed": false
      },
      "outputs": [],
      "source": [
        "# Compile the native Keras model (required to evaluate the MAE)\nmodel_keras.compile(optimizer='Adam', loss='mae')\n\n# Check Keras model performance\nmae_keras = model_keras.evaluate(x_test, y_test, verbose=0)\n\nprint(\"Keras MAE: {0:.4f}\".format(mae_keras))"
      ]
    },
    {
      "cell_type": "markdown",
      "metadata": {},
      "source": [
        "## 3. Load a pre-trained quantized Keras model\n\nThe above native Keras model is quantized and fine-tuned (QAT). The first convolutional\nlayer of our model uses 8-bit weights, other layers are quantized using 4-bit weights, all\nactivations are 4-bit.\n\n\n"
      ]
    },
    {
      "cell_type": "code",
      "execution_count": null,
      "metadata": {
        "collapsed": false
      },
      "outputs": [],
      "source": [
        "from akida_models import vgg_utk_face_pretrained\n\n# Load the pre-trained quantized model\nmodel_quantized_keras = vgg_utk_face_pretrained()\nmodel_quantized_keras.summary()"
      ]
    },
    {
      "cell_type": "code",
      "execution_count": null,
      "metadata": {
        "collapsed": false
      },
      "outputs": [],
      "source": [
        "# Compile the quantized Keras model (required to evaluate the MAE)\nmodel_quantized_keras.compile(optimizer='Adam', loss='mae')\n\n# Check Keras model performance\nmae_quant = model_quantized_keras.evaluate(x_test, y_test, verbose=0)\n\nprint(\"Keras MAE: {0:.4f}\".format(mae_quant))"
      ]
    },
    {
      "cell_type": "markdown",
      "metadata": {},
      "source": [
        "## 4. Conversion to Akida\n\nThe quantized Keras model is now converted into an Akida model. After conversion, we evaluate the\nperformance on the UTKFace dataset.\n\n\n"
      ]
    },
    {
      "cell_type": "code",
      "execution_count": null,
      "metadata": {
        "collapsed": false
      },
      "outputs": [],
      "source": [
        "from cnn2snn import convert\n\n# Convert the model\nmodel_akida = convert(model_quantized_keras)\nmodel_akida.summary()"
      ]
    },
    {
      "cell_type": "code",
      "execution_count": null,
      "metadata": {
        "collapsed": false
      },
      "outputs": [],
      "source": [
        "import numpy as np\n\n# Check Akida model performance\ny_akida = model_akida.predict(x_test_akida)\n\n# Compute and display the MAE\nmae_akida = np.sum(np.abs(y_test.squeeze() - y_akida.squeeze())) / len(y_test)\nprint(\"Akida MAE: {0:.4f}\".format(mae_akida))\n\n# For non-regression purposes\nassert abs(mae_keras - mae_akida) < 0.5"
      ]
    },
    {
      "cell_type": "markdown",
      "metadata": {},
      "source": [
        "## 5. Estimate age on a single image\nSelect a random image from the test set for age estimation.\nPrint the Keras model's age prediction using the ``model_keras.predict()`` function.\nPrint the Akida model's estimated age and the actual age associated with the image.\n\n"
      ]
    },
    {
      "cell_type": "code",
      "execution_count": null,
      "metadata": {
        "collapsed": false
      },
      "outputs": [],
      "source": [
        "import matplotlib.pyplot as plt\n\n# Estimate age on a random single image and display Keras and Akida outputs\nid = np.random.randint(0, len(y_test) + 1)\nage_keras = model_keras.predict(x_test[id:id + 1])\n\nplt.imshow(x_test_akida[id], interpolation='bicubic')\nplt.xticks([]), plt.yticks([])\nplt.show()\n\nprint(\"Keras estimated age: {0:.1f}\".format(age_keras.squeeze()))\nprint(\"Akida estimated age: {0:.1f}\".format(y_akida[id].squeeze()))\nprint(f\"Actual age: {y_test[id].squeeze()}\")"
      ]
    }
  ],
  "metadata": {
    "kernelspec": {
      "display_name": "Python 3",
      "language": "python",
      "name": "python3"
    },
    "language_info": {
      "codemirror_mode": {
        "name": "ipython",
        "version": 3
      },
      "file_extension": ".py",
      "mimetype": "text/x-python",
      "name": "python",
      "nbconvert_exporter": "python",
      "pygments_lexer": "ipython3",
      "version": "3.8.10"
    }
  },
  "nbformat": 4,
  "nbformat_minor": 0
}