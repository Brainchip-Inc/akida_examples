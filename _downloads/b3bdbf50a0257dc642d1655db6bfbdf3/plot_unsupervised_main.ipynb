{
  "cells": [
    {
      "cell_type": "code",
      "execution_count": null,
      "metadata": {
        "collapsed": false
      },
      "outputs": [],
      "source": [
        "%matplotlib inline"
      ]
    },
    {
      "cell_type": "markdown",
      "metadata": {},
      "source": [
        "\nNative learning for pattern detection\n=====================================\n\n\nIn this tutorial you will test the ability of a spiking neural network\nto detect a small pattern (a smiley face) embedded in a noisy image\n(random dots).\n\nYou will:\n\n    * create random dots images with an embedded repeating pattern\n    * create an akida instance\n    * train your model with two presentations of the repeating pattern\n    * test the ability of the model to recognize the pattern\n"
      ]
    },
    {
      "cell_type": "markdown",
      "metadata": {},
      "source": [
        "1. Creating the dataset\n-----------------------\n\n"
      ]
    },
    {
      "cell_type": "code",
      "execution_count": null,
      "metadata": {
        "collapsed": false
      },
      "outputs": [],
      "source": [
        "# Various imports needed for the tutorial\nimport os\nimport numpy as np\nimport matplotlib.cm as cm\nimport matplotlib.pyplot as plt\nimport matplotlib.gridspec as gridspec\nimport warnings\n\n# Filter warnings\nwarnings.filterwarnings(\"ignore\", module=\"matplotlib\")\n\n# Akida specific imports\nfrom akida import Model, Sparse, InputData, FullyConnected, LearningType, dense_to_sparse"
      ]
    },
    {
      "cell_type": "markdown",
      "metadata": {},
      "source": [
        "2. Creating random dot images\n-----------------------------\n\n"
      ]
    },
    {
      "cell_type": "code",
      "execution_count": null,
      "metadata": {
        "collapsed": false
      },
      "outputs": [],
      "source": [
        "# Create a very simple data set of random dot array\ndef random_dot_pictures(pattern, size_image=32, n_dots=40, n_images=1000, n_targets=20):\n    \"\"\"This function generates a set of square random images, some of which\n    include a specified pattern.\n\n    Each image is actually a binary grid of pixels that are either active (1)\n    or inactive (0).\n\n    The pattern is also a binary grid of arbitrary dimensions that is randomly\n    inserted in the middle of a subset of the generated images.\n\n    Args:\n        pattern: the two-dimensional pattern array\n        size_image: the height and width of each square image\n        n_dots: the number of active pixels in the image\n        n_images: the number of images to generate\n        n_targets: the number of images where the pattern should be inserted\n\n    Returns:\n        (random_dots, ind_targets)\n        Where:\n            random_dots is a numpy array containing the generated images\n            ind_targets is another numpy array indicating which image contains\n            the pattern\n    \"\"\"\n    random_dots = np.zeros((size_image, size_image, n_images), dtype=np.uint8)\n\n    # Randomly select num_targets images to insert the pattern\n    ind_targets = np.zeros((n_images,), dtype=np.int32)\n    ind_targets[np.random.choice(range(0, n_images), n_targets)] = 1\n\n    # Find the middle of the array to insert the pattern\n    x_ins = int(size_image/2 - pattern.shape[0]/2)\n    y_ins = int(size_image/2 - pattern.shape[1]/2)\n\n    # Generate images\n    for im_ind in range(0, n_images):\n        on_bits = np.zeros((size_image * size_image), dtype=np.uint8)\n        if ind_targets[im_ind] == 1:\n            # Include the pattern at the center of the image\n            on_bits = np.zeros((size_image, size_image), dtype=np.uint8)\n            on_bits[x_ins: x_ins + pattern.shape[0],\n                    y_ins: y_ins + pattern.shape[1]] = pattern\n\n            # Add the random noise\n            on_bits = np.reshape(on_bits, size_image * size_image)\n            on_bits[np.random.choice(np.setdiff1d(range(0, size_image * size_image), np.nonzero(on_bits)),\n                                  n_dots - np.count_nonzero(on_bits))] = 1\n        else:\n            on_bits = np.zeros((size_image * size_image), dtype=np.uint8)\n            on_bits[np.random.choice(range(0, size_image * size_image), n_dots)] = 1\n        random_dots[:, :, im_ind] = np.reshape(on_bits, (size_image, size_image))\n    return random_dots, ind_targets"
      ]
    },
    {
      "cell_type": "code",
      "execution_count": null,
      "metadata": {
        "collapsed": false
      },
      "outputs": [],
      "source": [
        "# Create a target pattern\ntarget_pattern = np.array([[0, 1, 0, 1, 0],\n                           [0, 1, 0, 1, 0],\n                           [0, 0, 0, 0, 0],\n                           [1, 0, 0, 0, 1],\n                           [0, 1, 1, 1, 0]])\n\n# Create a set of random dots images for training\nimage_size = 32\nnb_dots = 40\nnum_images_train = 1000\nnum_targets_train = 4\nnum_images_test = 10000\nnum_targets_test = 200\n\nin_images_train, ind_targets_train = random_dot_pictures(target_pattern,image_size,nb_dots,num_images_train, num_targets_train)\nin_images_test, ind_targets_test = random_dot_pictures(target_pattern,image_size, nb_dots, num_images_test, num_targets_test)"
      ]
    },
    {
      "cell_type": "markdown",
      "metadata": {},
      "source": [
        "3. Take a look at some of the random dots images\n------------------------------------------------\n\n"
      ]
    },
    {
      "cell_type": "code",
      "execution_count": null,
      "metadata": {
        "collapsed": false
      },
      "outputs": [],
      "source": [
        "# Show the mean image across all images for the training set\nfig1 = plt.figure(figsize=(12, 5))\nspec3 = gridspec.GridSpec(ncols = 7, nrows = 3)\nfig1.add_subplot(spec3[:3,:3])\nplt.imshow(np.mean(in_images_train, axis=2), cmap=cm.Greys_r)\nplt.title('Average input image (across {} training samples)'.format(num_images_train))\nnoise_images = in_images_train[:, :, ind_targets_train == 0]\npattern_images = in_images_train[:, :, ind_targets_train == 1]\nim_ind = 0\n# Show two rows of pure noise images\nfor i in range(0,2):\n    for j in range(3,7):\n        fig1.add_subplot(spec3[i,j])\n        im_ind += 1\n        plt.imshow(noise_images[:, :, im_ind], cmap=cm.Greys_r)\n        plt.title('random')\n# Show the four images with the inserted pattern\nfor i in range(0,4):\n    fig1.add_subplot(spec3[2, 3+i])\n    plt.imshow(pattern_images[:, :, i], cmap=cm.Greys_r)\n    plt.title('target')\nfig1.tight_layout()\nplt.show()"
      ]
    },
    {
      "cell_type": "markdown",
      "metadata": {},
      "source": [
        "4. Configuring the Akida model\n------------------------------\n\n"
      ]
    },
    {
      "cell_type": "code",
      "execution_count": null,
      "metadata": {
        "collapsed": false
      },
      "outputs": [],
      "source": [
        "# Initialize the model\nmodel = Model()\nmodel.add(InputData(\"input\", input_width=32, input_height=32, input_features=1))\nfully = FullyConnected(\"fully\", num_neurons=1024, threshold_fire=8)\nmodel.add(fully)\n# Compile fully Layer for training\nfully.compile(num_weights=30, min_plasticity=0.01, plasticity_decay=0.1)\nmodel.summary()"
      ]
    },
    {
      "cell_type": "markdown",
      "metadata": {},
      "source": [
        "5. Do the learning\n------------------\n\n"
      ]
    },
    {
      "cell_type": "code",
      "execution_count": null,
      "metadata": {
        "collapsed": false
      },
      "outputs": [],
      "source": [
        "# Define the function to test the ability of the model to find repeating pattern\ndef testing_performance(model, in_images, ind_targets, learning):\n    \"\"\"This function feeds a set of images to an Akida model instance and verifies if the\n    model identified the embedded pattern.\n\n    Args:\n        model: the Akida model instance\n        in_images: the input images\n        ind_targets: an index of the images containing the pattern\n        learning: a boolean indicating whether the model can learn or not\n\n    Returns:\n        (nrn_id, neurons_RF)\n        Where:\n            nrn_id is an array of neurons that spiked when the pattern was present\n            neurons_RF is an array containing an image representing these neurons receptive fields\n    \"\"\"\n    neurons_RF = np.zeros((1, image_size, image_size), dtype=int)\n    spikes_to_targets = 0\n    unnecessary_spikes = 0\n    nrn_ids = np.empty(shape=[0, 0])\n    for im_ind in range(0, in_images.shape[2]):\n        # Transform the images into spikes\n        spikes = dense_to_sparse(in_images[:, :, im_ind])\n        # Propagate through the model\n        if learning:\n            out_spikes = model.fit(spikes)\n        else:\n            out_spikes = model.forward(spikes)\n        # Each time there's a spike save the neuron ID to know who's learning\n        if out_spikes.nnz != 0:\n            if ind_targets[im_ind] == 1:\n                spikes_to_targets += 1\n                # Iterate over the coordinates of each neuron that spiked\n                for coord in out_spikes.coords:\n                    nrn_id = coord[3]\n\n                    a = nrn_id == nrn_ids\n                    if np.any(a):\n                        # If this neuron has already spiked\n                        b = np.argwhere(a)\n                        # Add the image to it's RF\n                        neurons_RF[b, :, :] = neurons_RF[b, :, :] + in_images[:, :,im_ind]\n                    else:\n                        # If this is a new spiking neuron\n                        print(\"New spiking neuron ID = {} ({})\".format(nrn_id, out_spikes.slice(coord).data[0]))\n                        nrn_ids = np.append(nrn_ids, nrn_id)\n                        # Create a new RF for the neuron\n                        neurons_RF = np.append(neurons_RF,np.reshape(in_images[:, :, im_ind],[1, in_images[:, :, im_ind].shape[0], in_images[:, :, im_ind].shape[1]]), axis = 0)\n            else:\n                unnecessary_spikes += 1\n    print(\"We recognized {} / {} presented targets \".format(spikes_to_targets, np.sum(ind_targets)))\n    print(\"There was {} spikes to noise vectors\".format(unnecessary_spikes))\n    return nrn_ids, neurons_RF"
      ]
    },
    {
      "cell_type": "code",
      "execution_count": null,
      "metadata": {
        "collapsed": false
      },
      "outputs": [],
      "source": [
        "nrn_ID, img_spiked = testing_performance(model, in_images_train,ind_targets_train, True)\nprint('')\nprint(\"let's have a look at the receptive field of the neuron\")\nfor i in range(0,nrn_ID.shape[0]):\n    plt.imshow(img_spiked[i,:,:], cmap=cm.Greys_r)\n    plt.title('LEARNING neuron ID {}'.format(nrn_ID[i]))\n    plt.show()"
      ]
    },
    {
      "cell_type": "markdown",
      "metadata": {},
      "source": [
        "6. Test the performance\n-----------------------\n\n"
      ]
    },
    {
      "cell_type": "code",
      "execution_count": null,
      "metadata": {
        "collapsed": false
      },
      "outputs": [],
      "source": [
        "# Do the testing\nstats = model.get_statistics()\nnrn_ID, img_spiked = testing_performance(model, in_images_test,ind_targets_test, False)\n\n# Show the mean image across all images\n# sphinx_gallery_thumbnail_number = 3\nfig1 = plt.figure()\nspec3 = gridspec.GridSpec(ncols = nrn_ID.shape[0], nrows = 1)\nfor i in range(0,nrn_ID.shape[0]):\n    fig1.add_subplot(spec3[i])\n    plt.imshow(img_spiked[i,:,:], cmap=cm.Greys_r)\n    plt.title('ID {}'.format(nrn_ID[i]))\nplt.show()"
      ]
    },
    {
      "cell_type": "code",
      "execution_count": null,
      "metadata": {
        "collapsed": false
      },
      "outputs": [],
      "source": [
        "# Print model statistics\nprint(\"Model statistics\")\nfor _, stat in stats.items():\n    print(stat)"
      ]
    }
  ],
  "metadata": {
    "kernelspec": {
      "display_name": "Python 3",
      "language": "python",
      "name": "python3"
    },
    "language_info": {
      "codemirror_mode": {
        "name": "ipython",
        "version": 3
      },
      "file_extension": ".py",
      "mimetype": "text/x-python",
      "name": "python",
      "nbconvert_exporter": "python",
      "pygments_lexer": "ipython3",
      "version": "3.7.6"
    }
  },
  "nbformat": 4,
  "nbformat_minor": 0
}