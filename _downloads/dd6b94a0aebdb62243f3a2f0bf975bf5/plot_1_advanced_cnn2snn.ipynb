{
  "cells": [
    {
      "cell_type": "code",
      "execution_count": null,
      "metadata": {
        "collapsed": false
      },
      "outputs": [],
      "source": [
        "%matplotlib inline"
      ]
    },
    {
      "cell_type": "markdown",
      "metadata": {},
      "source": [
        "\n# Advanced CNN2SNN tutorial\n\n<div class=\"alert alert-danger\"><h4>Warning</h4><p>Please note that CNN2SNN quantization is now deprecated and shouldn't be used anymore.\n    [QuantizeML](../../user_guide/quantizeml.html#)_ tool replaces it.\n    However, we wanted to keep some CNN2SNN quantization\n    examples of use, to avoid Akida 1.0 IP based hardware support discontinuity.</p></div>\n\nThis tutorial gives insights about CNN2SNN for users who want to go deeper\ninto the quantization possibilities of Keras models. We recommend first looking\nat the [user guide](../../user_guide/cnn2snn.html#legacy-quantization-api)_  to get started with\nCNN2SNN.\n\nThe CNN2SNN toolkit offers an easy-to-use set of functions to get a quantized\nmodel from a native Keras model and to convert it to an Akida model compatible\nwith the Akida NSoC. The [quantize](../../api_reference/cnn2snn_apis.html#cnn2snn.quantize)_\nand [quantize_layer](../../api_reference/cnn2snn_apis.html#cnn2snn.quantize_layer)_\nhigh-level functions replace native Keras layers into custom CNN2SNN quantized\nlayers which are derived from their Keras equivalents. However, these functions\nare not designed to choose how the weights and activations are quantized. This\ntutorial will present an alternative low-level method to define models with\ncustomizable quantization of weights and activations.\n"
      ]
    },
    {
      "cell_type": "markdown",
      "metadata": {},
      "source": [
        "## 1. Design a CNN2SNN quantized model\n\nUnlike the standard CNN2SNN flow where a native Keras model is quantized\nusing the ``quantize`` and ``quantize_layer`` functions, a customizable\nquantized model must be directly created using quantized layers.\n\nThe CNN2SNN toolkit supplies custom quantized layers to replace native\nKeras neural layers (Conv2D, SeparableConv2D and Dense) and\nactivations (ReLU).\n\n### Quantized neural layers\n\nThe CNN2SNN quantized neural layers are:\n\n* **QuantizedConv2D**, derived from ``keras.Conv2D``\n* **QuantizedSeparableConv2D**, derived from ``keras.SeparableConv2D``\n* **QuantizedDense**, derived from ``keras.Dense``\n\nThey are similar to their Keras counterparts, but have an additional\nargument: ``quantizer``. This parameter expects a *WeightQuantizer* object\nthat defines how the weights are discretized for a given bitwidth. Some\nquantizers are proposed in the CNN2SNN API:\n\n* **StdWeightQuantizer** and **StdPerAxisQuantizer**: these two quantizers use\n  the standard deviation of the weights to compute the range on which weights\n  are discretized. The *StdWeightQuantizer* uses a range equal to a fixed\n  number of standard deviations to discretize all weights within a layer,\n  whereas the *StdPerAxisQuantizer* discretizes each feature kernel\n  independently.\n* **MaxQuantizer** and **MaxPerAxisQuantizer**: these discretize on\n  a range based on the maximum of the absolute value of the weights. The\n  *MaxQuantizer* discretizes all weights within a layer based on their global\n  maximum, whereas the *MaxPerAxisQuantizer* discretizes each feature kernel,\n  in practice the last dimension of the weights tensor, independently based\n  on its local maximum.\n\nIf those quantizers do not fit your specific needs, you can\ncreate your own (cf. `weight-quantizer-section`).\n\n.. Note:: The `QuantizedSeparableConv2D` layer can accept two quantizers:\n          one ``quantizer`` for the pointwise convolution and a\n          ``quantizer_dw`` for the depthwise convolution. If the latter is\n          not defined, it is set by default to the same value as\n          ``quantizer``.\n\n          For Akida compatibility, the depthwise quantizer must be a\n          per-tensor quantizer (i.e. all weights within the depthwise kernel\n          are quantized together) and not a per-axis quantizer (i.e. each\n          feature kernel is quantized independently). See more details\n          [here](https://www.tensorflow.org/lite/performance/quantization_spec#per-axis_vs_per-tensor)_.\n\n\n### Quantized activation layers\n\nSimilarly, a quantized activation layer returns values that are discretized\non a uniform grid. Two quantized activation layers are provided to replace\nthe native ReLU layers:\n\n* **ActivationDiscreteRelu**: a linear quantizer for ReLU, clipped at value 6.\n* **QuantizedRelu**: a configurable activation layer where max clipping value\n  is a parameter.\n\nIt is also possible to define a custom quantized activation layer. Details\nare given in the section `activation-section`.\n\n.. Note:: The ``quantize`` function is a high-level helper that automatically\n          replaces the neural layers with their corresponding quantized\n          counterparts, using\n          [MaxPerAxisQuantizer](../../api_reference/cnn2snn_apis.html#maxperaxisquantizer)_.\n          The ReLU layers are substituted by\n          [QuantizedRelu](../../api_reference/cnn2snn_apis.html#cnn2snn.QuantizedReLU)_\n          layers.\n\n\n### Create a quantized model\n\nHere, we illustrate how to create a quantized model, equivalent to a native\nKeras model. We use the weight quantizers\nand quantized activation layers available in the CNN2SNN package. Although\nwe present only one weight quantizer and one quantized activation, a quantized\nmodel can be a mix of any quantizers and activations. For instance, every\nneural layer can have a different weight quantizer with different parameters.\n\n"
      ]
    },
    {
      "cell_type": "code",
      "execution_count": null,
      "metadata": {
        "collapsed": false
      },
      "outputs": [],
      "source": [
        "from tensorflow.keras import Sequential, Input, layers\n\n# Create a native Keras toy model\nmodel_keras = Sequential([\n\n    # Input layer\n    Input(shape=(28, 28, 1)),\n\n    # Conv + MaxPool + BatchNorm + ReLU\n    layers.Conv2D(8, 3),\n    layers.MaxPool2D(),\n    layers.BatchNormalization(),\n    layers.ReLU(),\n\n    # Flatten + Dense + Softmax\n    layers.Flatten(),\n    layers.Dense(10),\n    layers.Softmax()\n])\n\nmodel_keras.summary()"
      ]
    },
    {
      "cell_type": "code",
      "execution_count": null,
      "metadata": {
        "collapsed": false
      },
      "outputs": [],
      "source": [
        "from cnn2snn import quantization_layers as qlayers\nfrom cnn2snn import quantization_ops as qops\n\n# Prepare weight quantizers\nq1 = qops.MaxQuantizer(bitwidth=8)\nq2 = qops.MaxQuantizer(bitwidth=4)\n\n# Get layer names to set them in the quantized model\nnames = [layer.name for layer in model_keras.layers]\n\n# Create a quantized model, equivalent to the native Keras model\nmodel_quantized = Sequential([\n\n    # Input layer\n    Input(shape=(28, 28, 1)),\n\n    # Conv + MaxPool + BatchNorm + ReLU\n    qlayers.QuantizedConv2D(8, 3, quantizer=q1, name=names[0]),\n    layers.MaxPool2D(name=names[1]),\n    layers.BatchNormalization(name=names[2]),\n    qlayers.QuantizedReLU(bitwidth=4, name=names[3]),\n\n    # Flatten + Dense + Softmax\n    layers.Flatten(name=names[4]),\n    qlayers.QuantizedDense(10, quantizer=q2, name=names[5]),\n    layers.Softmax(name=names[6]),\n])\n\nmodel_quantized.summary()"
      ]
    },
    {
      "cell_type": "markdown",
      "metadata": {},
      "source": [
        "\n## 2. Weight Quantizer Details\n\n### How a weight quantizer works\n\nThe purpose of a weight quantizer is to compute a tensor of discretized\nweights. It can be split into two operations:\n\n- an optional transformation applied on the weights, e.g. a shift, a\n  non-linear transformation, ...\n- the quantization of the weights.\n\nFor Akida compatibility, the weights must be discretized on a symmetric grid\ndefined by two parameters:\n\n- the **bitwidth** defines the number of unique values the weights can take.\n  We define *kmax = 2^(bitwidth-1) - 1*, being the maximum integer value of\n  the symmetric quantization scheme. For instance, a 4-bit quantizer must\n  return weights on a grid of 15 values, between -7 and 7. Here, *kmax = 7*.\n- the symmetric range on which the weights will be discretized (let's say\n  between *-lim* and *lim*). Instead of working with the range, we use the\n  **scale factor** which is defined by *sf = kmax / lim*, where *sf* is the\n  scale factor. For instance with a 4-bit quantizer, the discretized weights\n  will be on the grid [*-7/sf, -6/sf, ..., -1/sf, 0, 1/sf, ..., 6/sf, 7/sf*].\n  The maximum discrete value *7/sf* is equal to *lim*, the limit of the range\n  (see figure below).\n\n<img src=\"file://../../img/custom_quantizer.jpg\" scale=\"70 %\">\n\nWhen training, the weight quantization is applied during the forward pass:\nthe weights are quantized and then used for the convolution or the fully\nconnected operation. However, during the back-propagation phase, the gradient\nis computed as if there were no quantization and the weights are updated\nbased on their original values before quantization. This is usually called\nthe \"Straight-Through Estimator\" (STE) and it can be done using the\n``tf.stop_gradient`` function.\n\n.. Note:: Remember that the weights are stored as standard float values in\n          the model. To get the quantized weights, you must first retrieve\n          the standard weights, using ``get_weights()``. Then, you can apply\n          the ``quantize`` function of the weight quantizer to obtain the\n          discretized weights. Finally, if you want to get the integer\n          quantized values (between *-kmax* and *kmax*), you must multiply\n          the discretized weights by the scale factor.\n\n### How to create a custom weight quantizer\n\nThe CNN2SNN API proposes a way to create a custom weight quantizer. It must\nbe derived from the ``WeightQuantizer`` base class and must override two\nmethods:\n\n- the ``scale_factor(w)`` method, returning the scale factor based on the\n  input weights. The output must be a scalar or vectorial TensorFlow tensor.\n  Per-tensor quantization will give a single scalar value, whereas\n  per-axis quantization will yield a vector with a scale factor for each\n  feature kernel.\n- the ``quantize(w)`` method, returning the discretized weights based on the\n  scale factor and the bitwidth. A Tensorflow tensor must be returned. The\n  two operations (optional transformation and quantization) are performed in\n  here.\n\n.. Note:: To be able to correctly train a quantized model, it is important\n          to implement the STE estimator in the ``quantize`` function, by\n          using ``tf.stop_gradient`` at the quantization operation.\n\nIf there is no need for the optional transformation in the custom quantizer,\nthe CNN2SNN toolkit gives a ``LinearWeightQuantizer`` that skips this\nstep. The ``quantize`` function is already provided and only the\n``scale_factor`` function must be overridden.\n\n\n### Why use a different quantizer\n\nLet's now see a use case where it is interesting to consider the behaviour of\ndifferent quantizers. The *MaxQuantizer* used in the *QuantizedDense* layer\nof our above model discretizes the weights based on their maximum value. The\ndefault *MaxPerAxisQuantizer* has a similar behaviour with an additional\nper-axis quantization design. If weights contain outliers, that are very\nlarge weights in absolute value, this quantization scheme based on maximum\nvalue can be inappropriate. Let's look at it in practice: we retrieve the\nweights of the QuantizedDense layer and compute the discretized counterparts\nusing the *MaxQuantizer* of the layer.\n\n"
      ]
    },
    {
      "cell_type": "code",
      "execution_count": null,
      "metadata": {
        "collapsed": false
      },
      "outputs": [],
      "source": [
        "import numpy as np\nimport tensorflow as tf\nimport matplotlib.pyplot as plt\n\n# Retrieve weights and quantizer of the QuantizedDense layer\ndense_name = names[5]\nquantizer = model_quantized.get_layer(dense_name).quantizer\nw = model_quantized.get_layer(dense_name).get_weights()[0]\n\n# Artificially add outliers\nw[:5, :] = 0.5\n\n# Compute discretized weights\nwq = quantizer.quantize(tf.constant(w)).numpy()\n\n\n# Show original and discretized weights histograms\ndef plot_discretized_weights(w, wq):\n    xlim = [-0.095, 0.53]\n    fig, (ax1, ax2) = plt.subplots(1, 2)\n    ax1.hist(w.flatten(), bins=50)\n    ax1.set_xlim(xlim)\n    ax1.get_yaxis().set_visible(False)\n    ax1.title.set_text(\"Original weights distribution\")\n\n    vals, counts = np.unique(wq, return_counts=True)\n    ax2.bar(vals, counts, 0.005)\n    ax2.set_xlim(xlim)\n    ax2.get_yaxis().set_visible(False)\n    ax2.title.set_text(\"Discretized weights distribution\")\n\n    plt.tight_layout()\n    plt.show()\n\n\nplot_discretized_weights(w, wq)"
      ]
    },
    {
      "cell_type": "markdown",
      "metadata": {},
      "source": [
        "The graphs above illustrate that a *MaxQuantizer* applied on weights with\noutliers will keep the full range of weights to discretize. In this use case,\nthe large majority of weights is between -0.1 and 0.1, and are discretized\non only three quantization values. The outliers at 0.5 are preserved after\nquantization. If outlier weights don't represent much information in the\nlayer, it can be preferable to use another weight quantizer which \"forgets\"\nthem.\n\nThe *StdWeightQuantizer* is a good alternative for this use case: the\nquantization range is based on the standard deviation of the original\nweights. Outliers have little impact on the standard deviation of the\nweights. Then the outliers can be out of the range based on the standard\ndeviation.\n\nIn this tutorial, instead of directly using the *StdWeightQuantizer*, we\npresent how to create a quantizer. The custom quantizer created below is a\nsimplified version of the *StdWeightQuantizer*. It is derived from the\n[LinearWeightQuantizer](../../api_reference/cnn2snn_apis.html#linearweightquantizer)_.\nAs mentioned above, the ``quantize`` function is already implemented in\n*LinearWeightQuantizer*. Only the ``scale_factor`` function must be\noverridden.\n\n"
      ]
    },
    {
      "cell_type": "code",
      "execution_count": null,
      "metadata": {
        "collapsed": false
      },
      "outputs": [],
      "source": [
        "# Define a custom weight quantizer\nclass CustomStdQuantizer(qops.LinearWeightQuantizer):\n    \"\"\"This is a custom weight quantizer that defines the scale factor based\n    on the standard deviation of the weights.\n\n    The weights in range (-2*std, 2*std) are quantized into (2**bitwidth - 1)\n    levels and the weights outside this range are clipped to \u00b12*std.\n    \"\"\"\n\n    def scale_factor(self, w):\n        std_dev = tf.math.reduce_std(w)\n        return self.kmax_ / (2 * std_dev)\n\n\nquantizer_std = CustomStdQuantizer(bitwidth=4)\n\n# Compute discretized weights\nwq = quantizer_std.quantize(tf.constant(w)).numpy()\n\n# Show original and discretized weights histograms\nplot_discretized_weights(w, wq)"
      ]
    },
    {
      "cell_type": "markdown",
      "metadata": {},
      "source": [
        "The two graphs above show that using a quantizer based on the standard\ndeviation can remove the outliers and give a finer discretization of the\nweights between -0.1 and 0.1. In this toy example, the *MaxQuantizer*\ndiscretizes the \"small\" weights on 3 quantization values, whereas the\n*CustomStdQuantizer* discretizes them on about 13-14 quantization values.\nDepending on the need to preserve the outliers or not, one quantizer or\nthe other is preferable.\n\nIn our experience, the *MaxPerAxisQuantizer* yields better results in most\nuse cases, especially for post-training quantization, which is why it is the\ndefault quantizer.\n\n"
      ]
    },
    {
      "cell_type": "markdown",
      "metadata": {},
      "source": [
        "\n## 3. Understanding quantized activation\n\nA quantized activation layer works as a ReLU layer with an additional\nquantization step. It can then be seen as a succession of two operations:\n\n- a linear activation function, clipped between zero and a maximum\n  activation value\n- the quantization, which is a ceiling operation. The activations will be\n  uniformly quantized between zero and the maximum activation value.\n\nThe linear activation function is defined by (cf. the blue line in the graph\nbelow):\n\n- the activation threshold: the value above which a neuron fires\n- the maximum activation value: any activation above will be clipped\n\nThe quantization operation is defined by one parameter: the bitwidth. The\nactivation function is quantized using the ceiling operator on\n*2^bitwidth - 1* positive activation levels. For instance, a 4-bit quantized\nactivation gives 15 activation levels (plus the zero activation) uniformly\ndistributed between zero and the maximum activation value (cf. the orange\nline in the graph).\n\n\n<img src=\"file://../../img/custom_activation.png\" scale=\"35 %\">\n\nDuring training, the ceiling quantization is performed in the forward pass:\nthe activations are discretized and then transferred to the next layer.\nHowever, during the back-propagation phase, the gradient is computed as if\nthere were no quantization: only the gradient of the clipped linear\nactivation function (blue line above) is back-propagated. Like for weight\nquantizers, this STE estimator is done using the ``tf.stop_gradient``\nfunction.\n\n\n"
      ]
    },
    {
      "cell_type": "markdown",
      "metadata": {},
      "source": [
        "\n## 4. How to deal with too high scale factors\n\nA quantized Keras model may have sometimes very high scale factors, i.e. very\nsmall weights, in the neural layers. During conversion into an Akida model,\nthese scale factors are used to compute the Akida fire thresholds and steps\nrequired for Akida inference. However, these fire thresholds and steps are\nlimited in memory on NSoC. It may happen that their values are too big to fit\ninto memory and then a Runtime Error occurs at Akida inference, e.g. ``Runtime\nError: Error when programming layer 'separable_8': Backend Hardware(CNP):\n1246278 cannot fit in a 20-bit unsigned integer``.\n\nIf you're facing this issue, it is necessary to retrain your Keras model to\navoid too high scale factors in the neural layers. One possible reason for\nthese high scale factors is the presence of very small gammas in\nBatchNormalization (BN) layers. Indeed, when folding BN layers into their\npreceding neural layers, the weights corresponding to tiny BN gammas become in\nturn very small, which leads to high scale factors. The akida_models package\nprovides a tool to add constraint on BN gammas: the gammas are clipped to a\nminimum value of 1e-2: the gammas cannot be smaller than this threshold. The\ncode snippet below illustrates how to use the provided tool. Note that it must\nbe applied on the Keras float (or quantized) model before folding BN layers.\n\n"
      ]
    },
    {
      "cell_type": "code",
      "execution_count": null,
      "metadata": {
        "collapsed": false
      },
      "outputs": [],
      "source": [
        "from akida_models.gamma_constraint import add_gamma_constraint\n\n# Add BN gamma constraint on all BN layers of the model\nmodel_keras_with_gamma_constraint = add_gamma_constraint(model_keras)"
      ]
    },
    {
      "cell_type": "markdown",
      "metadata": {},
      "source": [
        "The new model can then be trained using ``compile()`` and ``fit()`` and\nquantized if needed. The trained model will not have BN gammas less than 1e-2,\nwhich is valuable to avoid very high scale factors.\n\n"
      ]
    }
  ],
  "metadata": {
    "kernelspec": {
      "display_name": "Python 3",
      "language": "python",
      "name": "python3"
    },
    "language_info": {
      "codemirror_mode": {
        "name": "ipython",
        "version": 3
      },
      "file_extension": ".py",
      "mimetype": "text/x-python",
      "name": "python",
      "nbconvert_exporter": "python",
      "pygments_lexer": "ipython3",
      "version": "3.8.10"
    }
  },
  "nbformat": 4,
  "nbformat_minor": 0
}