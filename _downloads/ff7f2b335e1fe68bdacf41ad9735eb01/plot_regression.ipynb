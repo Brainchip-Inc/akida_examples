{
  "cells": [
    {
      "cell_type": "code",
      "execution_count": null,
      "metadata": {
        "collapsed": false
      },
      "outputs": [],
      "source": [
        "%matplotlib notebook"
      ]
    },
    {
      "cell_type": "markdown",
      "metadata": {},
      "source": [
        "\nRegression tutorial\n==================================================\n\nThis tutorial demonstrates that hardware compatible Akida models can perform\nregression tasks at the same accuracy level as a native CNN network.\n\nThis is illustrated through an age estimation problem using the\n`UTKFace dataset <https://susanqq.github.io/UTKFace/>`__.\n"
      ]
    },
    {
      "cell_type": "markdown",
      "metadata": {},
      "source": [
        "1. Load dependencies\n~~~~~~~~~~~~~~~~~~~~\n\n\n"
      ]
    },
    {
      "cell_type": "code",
      "execution_count": null,
      "metadata": {
        "collapsed": false
      },
      "outputs": [],
      "source": [
        "# Various imports needed for the tutorial\nimport os\nimport random\nimport numpy as np\nimport matplotlib.pyplot as plt\n\n# Akida imports\nfrom cnn2snn import convert\nfrom akida_models import vgg_utk_face\nfrom akida_models.utk_face.preprocessing import load_data"
      ]
    },
    {
      "cell_type": "markdown",
      "metadata": {},
      "source": [
        "2. Load the dataset\n~~~~~~~~~~~~~~~~~~~~~~~~~~~~~~~~\n\n\n"
      ]
    },
    {
      "cell_type": "code",
      "execution_count": null,
      "metadata": {
        "collapsed": false
      },
      "outputs": [],
      "source": [
        "# Load the dataset using akida_model tool function\nx_train, y_train, x_test, y_test = load_data()\n\n# Store the input shape that will later be used to create the model\ninput_shape = x_test.shape[1:]\n\n# For CNN training and inference, normalize data by subtracting the mean value\n# and dividing by the standard deviation\na = np.std(x_train)\nb = np.mean(x_train)\ninput_scaling = (a, b)\nx_test_keras = (x_test.astype('float32') - b) / a\n\n# For akida training, use uint8 raw data\nx_test_akida = x_test.astype('uint8')"
      ]
    },
    {
      "cell_type": "markdown",
      "metadata": {},
      "source": [
        "3. Create a Keras model satisfying Akida NSoC requirements\n~~~~~~~~~~~~~~~~~~~~~~~~~~~~~~~~~~~~~~~~~~~~~~~~~~~~~~~~~~\n\nThe model is a simplified version inspired from `VGG <https://arxiv.org/abs/1409.1556>`__\narchitecture. It consists of a succession of Convolutional and Pooling layers\nand ends with two Dense layers at the top that output a single value\ncorresponding to the estimated age.\n\nThe first convolutional layer uses 8 bit weights, but other layers are\nquantized using 2 bit weights.\nAll activations are 2 bits.\n\nPre-trained weights were obtained after four training episodes:\n\n* the model is first trained with unconstrained float weights and\n  activations for 30 epochs\n* the model is then progressively retrained with quantized activations and\n  weights during three steps: activations are set to 4 bits and weights to 8\n  bits, then both are set to 4 bits and finally both to 2 bits. At each step\n  weights are initialized from the previous step state.\n\n\n"
      ]
    },
    {
      "cell_type": "code",
      "execution_count": null,
      "metadata": {
        "collapsed": false
      },
      "outputs": [],
      "source": [
        "model_keras = vgg_utk_face(input_shape,\n                           weights='utkface',\n                           weight_quantization=2,\n                           activ_quantization=2,\n                           input_weight_quantization=8)\nmodel_keras.summary()"
      ]
    },
    {
      "cell_type": "markdown",
      "metadata": {},
      "source": [
        "4. Check performance\n~~~~~~~~~~~~~~~~~~~~\n\n"
      ]
    },
    {
      "cell_type": "code",
      "execution_count": null,
      "metadata": {
        "collapsed": false
      },
      "outputs": [],
      "source": [
        "# Compile Keras model, use the mean absolute error (MAE) as a metric.\n# MAE is calculated as an average of absolute differences between the target\n# values and the predictions. The MAE is a linear score which means that all the\n# individual differences are weighted equally in the average.\n\nmodel_keras.compile(optimizer='Adam', loss='mae')\n\n# Check Keras model performance\nmae_keras = model_keras.evaluate(x_test_keras, y_test, verbose=0)\n\nprint(\"Keras MAE: {0:.4f}\".format(mae_keras))"
      ]
    },
    {
      "cell_type": "markdown",
      "metadata": {},
      "source": [
        "5. Conversion to Akida\n~~~~~~~~~~~~~~~~~~~~~~\n\n5.1 Convert the trained Keras model to Akida\n^^^^^^^^^^^^^^^^^^^^^^^^^^^^^^^^^^^^^^^^^^^^\n\nWe convert the model to Akida and verify that it is compatible with the\nAkida NSoC (**HW** column in summary).\n\n\n"
      ]
    },
    {
      "cell_type": "code",
      "execution_count": null,
      "metadata": {
        "collapsed": false
      },
      "outputs": [],
      "source": [
        "# Convert the model\nmodel_akida = convert(model_keras, input_scaling=input_scaling)\nmodel_akida.summary()"
      ]
    },
    {
      "cell_type": "markdown",
      "metadata": {},
      "source": [
        "5.2 Check Akida model accuracy\n^^^^^^^^^^^^^^^^^^^^^^^^^^^^^^\n\n\n"
      ]
    },
    {
      "cell_type": "code",
      "execution_count": null,
      "metadata": {
        "collapsed": false
      },
      "outputs": [],
      "source": [
        "# Check Akida model performance\ny_akida = model_akida.evaluate(x_test_akida)\n\n# Compute and display the MAE\nmae_akida = np.sum(np.abs(y_test.squeeze() - y_akida.squeeze())) / len(y_test)\nprint(\"Akida MAE: {0:.4f}\".format(mae_akida))\n\n# For non-regression purpose\nassert abs(mae_keras - mae_akida) < 0.5"
      ]
    },
    {
      "cell_type": "code",
      "execution_count": null,
      "metadata": {
        "collapsed": false
      },
      "outputs": [],
      "source": [
        "# Print model statistics\nprint(\"Model statistics\")\nstats = model_akida.get_statistics()\nmodel_akida.evaluate(x_test_akida[:20])\nfor _, stat in stats.items():\n    print(stat)"
      ]
    },
    {
      "cell_type": "markdown",
      "metadata": {},
      "source": [
        "6. Estimate age on a single image\n~~~~~~~~~~~~~~~~~~~~~~~~~~~~~~~~~\n\n"
      ]
    },
    {
      "cell_type": "code",
      "execution_count": null,
      "metadata": {
        "collapsed": false
      },
      "outputs": [],
      "source": [
        "# Estimate age on a random single image and display Keras and Akida outputs\nid = random.randint(0, len(y_test))\nage_keras = model_keras.predict(x_test_keras[id:id + 1])\n\nplt.imshow(x_test_akida[id], interpolation='bicubic')\nplt.xticks([]), plt.yticks([])\nplt.show()\n\nprint(\"Keras estimated age: {0:.1f}\".format(age_keras.squeeze()))\nprint(\"Akida estimated age: {0:.1f}\".format(y_akida[id].squeeze()))\nprint(f\"Actual age: {y_test[id].squeeze()}\")"
      ]
    }
  ],
  "metadata": {
    "kernelspec": {
      "display_name": "Python 3",
      "language": "python",
      "name": "python3"
    },
    "language_info": {
      "codemirror_mode": {
        "name": "ipython",
        "version": 3
      },
      "file_extension": ".py",
      "mimetype": "text/x-python",
      "name": "python",
      "nbconvert_exporter": "python",
      "pygments_lexer": "ipython3",
      "version": "3.7.5"
    }
  },
  "nbformat": 4,
  "nbformat_minor": 0
}